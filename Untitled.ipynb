{
 "cells": [
  {
   "cell_type": "code",
   "execution_count": 1,
   "metadata": {},
   "outputs": [],
   "source": [
    "import csv"
   ]
  },
  {
   "cell_type": "code",
   "execution_count": 2,
   "metadata": {},
   "outputs": [],
   "source": [
    "dictC = ['U', 'B', 'G', 'R', 'W']"
   ]
  },
  {
   "cell_type": "code",
   "execution_count": 3,
   "metadata": {},
   "outputs": [],
   "source": [
    "def get_arrays(i):\n",
    "    arrays_ = []\n",
    "    if i == 1:\n",
    "        for element in dictC:\n",
    "            arrays_.append([element])\n",
    "    return arrays_"
   ]
  },
  {
   "cell_type": "code",
   "execution_count": 4,
   "metadata": {},
   "outputs": [],
   "source": [
    "def full_dict():\n",
    "    colors = []\n",
    "    for i in range(1, 2):\n",
    "        arrays_ = get_arrays(i)\n",
    "        colors = colors.append(arrays)\n",
    "    return colors"
   ]
  },
  {
   "cell_type": "code",
   "execution_count": 5,
   "metadata": {},
   "outputs": [],
   "source": [
    "def get_one():\n",
    "    arrays_ = []\n",
    "    for element in dictC:\n",
    "        arrays_.append([element])\n",
    "    return arrays_"
   ]
  },
  {
   "cell_type": "code",
   "execution_count": 6,
   "metadata": {},
   "outputs": [],
   "source": [
    "def get_two():\n",
    "    arrays_ = []\n",
    "    for i in range(1, 6):\n",
    "        for j in range(i + 1, 6):\n",
    "            time = []\n",
    "            time.append(dictC[i - 1])\n",
    "            time.append(dictC[j - 1])\n",
    "            arrays_.append(time)\n",
    "    return arrays_"
   ]
  },
  {
   "cell_type": "code",
   "execution_count": 7,
   "metadata": {},
   "outputs": [],
   "source": [
    "def get_three():\n",
    "    arrays_ = []\n",
    "    for i in range(1, 6):\n",
    "        for j in range(i + 1, 6):\n",
    "            for z in range(j + 1, 6):                \n",
    "                time = []\n",
    "                time.append(dictC[i - 1])\n",
    "                time.append(dictC[j - 1])\n",
    "                time.append(dictC[z - 1])\n",
    "                arrays_.append(time)\n",
    "    return arrays_"
   ]
  },
  {
   "cell_type": "code",
   "execution_count": 8,
   "metadata": {},
   "outputs": [],
   "source": [
    "def get_four():\n",
    "    arrays_ = []\n",
    "    for i in range(1, 6):\n",
    "        time = []\n",
    "        for j in range(1, 6):\n",
    "            if i != j:\n",
    "                time.append(dictC[j - 1])\n",
    "        arrays_.append(time)\n",
    "    return arrays_"
   ]
  },
  {
   "cell_type": "code",
   "execution_count": 9,
   "metadata": {},
   "outputs": [
    {
     "name": "stdout",
     "output_type": "stream",
     "text": [
      "[['U'], ['B'], ['G'], ['R'], ['W'], ['U', 'B'], ['U', 'G'], ['U', 'R'], ['U', 'W'], ['B', 'G'], ['B', 'R'], ['B', 'W'], ['G', 'R'], ['G', 'W'], ['R', 'W'], ['U', 'B', 'G'], ['U', 'B', 'R'], ['U', 'B', 'W'], ['U', 'G', 'R'], ['U', 'G', 'W'], ['U', 'R', 'W'], ['B', 'G', 'R'], ['B', 'G', 'W'], ['B', 'R', 'W'], ['G', 'R', 'W'], ['B', 'G', 'R', 'W'], ['U', 'G', 'R', 'W'], ['U', 'B', 'R', 'W'], ['U', 'B', 'G', 'W'], ['U', 'B', 'G', 'R'], ['U', 'B', 'G', 'R', 'W']]\n"
     ]
    }
   ],
   "source": [
    "color = []\n",
    "for i in range(1, 6):\n",
    "    arrays_ = []\n",
    "    if i == 1:\n",
    "        arrays_ = get_one()\n",
    "        for element in arrays_:\n",
    "            color.append(element)\n",
    "    if i == 2:\n",
    "        arrays_ = get_two()\n",
    "        for element in arrays_:\n",
    "            color.append(element)\n",
    "    if i == 3:\n",
    "        arrays_ = get_three()\n",
    "        for element in arrays_:\n",
    "            color.append(element)\n",
    "    if i == 4:\n",
    "        arrays_ = get_four()\n",
    "        for element in arrays_:\n",
    "            color.append(element)\n",
    "    if i == 5:\n",
    "        color.append(dictC)\n",
    "print(color)        "
   ]
  },
  {
   "cell_type": "code",
   "execution_count": 10,
   "metadata": {},
   "outputs": [],
   "source": [
    "coder_color = {}\n",
    "num = 1\n",
    "for element in color:\n",
    "    coder_color[num] = element\n",
    "    num += 1  "
   ]
  },
  {
   "cell_type": "code",
   "execution_count": 11,
   "metadata": {},
   "outputs": [
    {
     "name": "stdout",
     "output_type": "stream",
     "text": [
      "{1: ['U'], 2: ['B'], 3: ['G'], 4: ['R'], 5: ['W'], 6: ['U', 'B'], 7: ['U', 'G'], 8: ['U', 'R'], 9: ['U', 'W'], 10: ['B', 'G'], 11: ['B', 'R'], 12: ['B', 'W'], 13: ['G', 'R'], 14: ['G', 'W'], 15: ['R', 'W'], 16: ['U', 'B', 'G'], 17: ['U', 'B', 'R'], 18: ['U', 'B', 'W'], 19: ['U', 'G', 'R'], 20: ['U', 'G', 'W'], 21: ['U', 'R', 'W'], 22: ['B', 'G', 'R'], 23: ['B', 'G', 'W'], 24: ['B', 'R', 'W'], 25: ['G', 'R', 'W'], 26: ['B', 'G', 'R', 'W'], 27: ['U', 'G', 'R', 'W'], 28: ['U', 'B', 'R', 'W'], 29: ['U', 'B', 'G', 'W'], 30: ['U', 'B', 'G', 'R'], 31: ['U', 'B', 'G', 'R', 'W']}\n"
     ]
    }
   ],
   "source": [
    "print(coder_color)"
   ]
  },
  {
   "cell_type": "code",
   "execution_count": null,
   "metadata": {},
   "outputs": [],
   "source": []
  },
  {
   "cell_type": "code",
   "execution_count": 12,
   "metadata": {},
   "outputs": [],
   "source": [
    "def parse_cost(value):\n",
    "    mas = []\n",
    "    for c in value.split(','):\n",
    "        mas.append(c)\n",
    "    return mas"
   ]
  },
  {
   "cell_type": "code",
   "execution_count": 13,
   "metadata": {},
   "outputs": [],
   "source": [
    "def change_cost(value):\n",
    "    index = -1\n",
    "    massive = parse_cost(value)\n",
    "    for i in range(1, len(coder_color)):\n",
    "        if len(list(set(coder_color[i]) - set(massive))) == 0:\n",
    "            index = i\n",
    "    if index == -1:\n",
    "        return len(coder_color) + 1\n",
    "    return index"
   ]
  },
  {
   "cell_type": "code",
   "execution_count": 14,
   "metadata": {},
   "outputs": [],
   "source": [
    "def csv_reader(file_obj):\n",
    "    reader = csv.reader(file_obj)\n",
    "    return reader"
   ]
  },
  {
   "cell_type": "code",
   "execution_count": 15,
   "metadata": {},
   "outputs": [],
   "source": [
    "def get_csv(csv_path):\n",
    "    f_obj = open(csv_path, \"r\")\n",
    "    reader = csv_reader(f_obj)\n",
    "    return reader"
   ]
  },
  {
   "cell_type": "code",
   "execution_count": 16,
   "metadata": {},
   "outputs": [],
   "source": [
    "def code_mana_cost(lines):\n",
    "    for i in range (1, len(lines)):\n",
    "        lines[i][1] = 1\n",
    "    return lines"
   ]
  },
  {
   "cell_type": "code",
   "execution_count": 17,
   "metadata": {},
   "outputs": [],
   "source": [
    "def code_cmc(lines):\n",
    "    for i in range (1, len(lines)):\n",
    "        if len(lines[i][2]) == 0:\n",
    "            lines[i][2] = -1\n",
    "    return lines"
   ]
  },
  {
   "cell_type": "code",
   "execution_count": 18,
   "metadata": {},
   "outputs": [],
   "source": [
    "def code_colorIdentity(lines):\n",
    "    for i in range (1, len(lines)):\n",
    "        lines[i][3] = change_cost(lines[i][3])\n",
    "    return lines"
   ]
  },
  {
   "cell_type": "code",
   "execution_count": 19,
   "metadata": {},
   "outputs": [],
   "source": [
    "def code_type(lines):\n",
    "    for i in range (1, len(lines)):\n",
    "        lines[i][6] = 1\n",
    "    return lines"
   ]
  },
  {
   "cell_type": "code",
   "execution_count": 20,
   "metadata": {},
   "outputs": [],
   "source": [
    "def code_text(lines):\n",
    "    for i in range (1, len(lines)):\n",
    "        lines[i][7] = 1\n",
    "    return lines"
   ]
  },
  {
   "cell_type": "code",
   "execution_count": 21,
   "metadata": {},
   "outputs": [],
   "source": [
    "def code_printings(lines):\n",
    "    for i in range (1, len(lines)):\n",
    "        lines[i][8] = 1\n",
    "    return lines"
   ]
  },
  {
   "cell_type": "code",
   "execution_count": 22,
   "metadata": {},
   "outputs": [],
   "source": [
    "def code_power(lines):\n",
    "    for i in range (1, len(lines)):\n",
    "        if len(lines[i][12]) == 0:\n",
    "            lines[i][12] = -1\n",
    "            continue\n",
    "        if type(lines[i][12]) != \"int\":\n",
    "            if '*' in lines[i][12]:\n",
    "                lines[i][12] = -2    \n",
    "                continue\n",
    "    return lines"
   ]
  },
  {
   "cell_type": "code",
   "execution_count": 23,
   "metadata": {},
   "outputs": [],
   "source": [
    "def code_toughness(lines):\n",
    "    for i in range (1, len(lines)):\n",
    "        if len(lines[i][13]) == 0:\n",
    "            lines[i][13] = -1\n",
    "            continue\n",
    "        if type(lines[i][13]) != \"int\":\n",
    "            if '*' in lines[i][13]:\n",
    "                lines[i][13] = -2    \n",
    "                continue\n",
    "    return lines"
   ]
  },
  {
   "cell_type": "code",
   "execution_count": 24,
   "metadata": {},
   "outputs": [],
   "source": [
    "def code_rarity(lines):\n",
    "    for i in range (1, len(lines)):\n",
    "        typeR = lines[i][14]\n",
    "        final_type = 0\n",
    "        if typeR == \"Common\":\n",
    "            final_type = 2\n",
    "        if typeR == \"Uncommon\":\n",
    "            final_type = 3\n",
    "        if typeR == \"Rare\":\n",
    "            final_type = 4\n",
    "        if typeR == \"Mythic\":\n",
    "            final_type = 5    \n",
    "        if typeR == \"Basic Land\":\n",
    "            final_type = 1\n",
    "        lines[i][14] = final_type\n",
    "    return lines"
   ]
  },
  {
   "cell_type": "code",
   "execution_count": 25,
   "metadata": {},
   "outputs": [],
   "source": [
    "def code_subtypes(lines):\n",
    "    for i in range (1, len(lines)):\n",
    "        lines[i][15] = 1\n",
    "    return lines"
   ]
  },
  {
   "cell_type": "code",
   "execution_count": 26,
   "metadata": {},
   "outputs": [],
   "source": [
    "def code_types(lines):\n",
    "    for i in range (1, len(lines)):\n",
    "        lines[i][16] = 1\n",
    "    return lines"
   ]
  },
  {
   "cell_type": "code",
   "execution_count": 27,
   "metadata": {},
   "outputs": [],
   "source": [
    "def work_rarity(lines):\n",
    "    lines = code_mana_cost(lines)\n",
    "    lines = code_cmc(lines)\n",
    "    lines = code_colorIdentity(lines)\n",
    "    lines = code_type(lines)\n",
    "    lines = code_text(lines)\n",
    "    lines = code_printings(lines)\n",
    "    lines = code_power(lines)\n",
    "    lines = code_toughness(lines)\n",
    "    lines = code_rarity(lines)\n",
    "    lines = code_subtypes(lines)\n",
    "    lines = code_types(lines)\n",
    "    return lines    "
   ]
  },
  {
   "cell_type": "code",
   "execution_count": null,
   "metadata": {},
   "outputs": [],
   "source": []
  },
  {
   "cell_type": "code",
   "execution_count": 28,
   "metadata": {},
   "outputs": [],
   "source": [
    "csv_path = \"Downloads/mtgcsv-master/csv/5ED.csv\"\n",
    "reader = get_csv(csv_path)\n",
    "lines = list(reader)\n",
    "lines = work_rarity(lines)\n",
    "writer = csv.writer(open('tmp/output.csv', 'w'))\n",
    "writer.writerows(lines)"
   ]
  },
  {
   "cell_type": "code",
   "execution_count": null,
   "metadata": {},
   "outputs": [],
   "source": []
  },
  {
   "cell_type": "code",
   "execution_count": null,
   "metadata": {},
   "outputs": [],
   "source": []
  },
  {
   "cell_type": "code",
   "execution_count": null,
   "metadata": {},
   "outputs": [],
   "source": []
  }
 ],
 "metadata": {
  "kernelspec": {
   "display_name": "Python 3",
   "language": "python",
   "name": "python3"
  },
  "language_info": {
   "codemirror_mode": {
    "name": "ipython",
    "version": 3
   },
   "file_extension": ".py",
   "mimetype": "text/x-python",
   "name": "python",
   "nbconvert_exporter": "python",
   "pygments_lexer": "ipython3",
   "version": "3.7.7"
  }
 },
 "nbformat": 4,
 "nbformat_minor": 4
}
